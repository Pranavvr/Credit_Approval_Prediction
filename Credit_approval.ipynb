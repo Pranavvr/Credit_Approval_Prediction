{
  "nbformat": 4,
  "nbformat_minor": 0,
  "metadata": {
    "colab": {
      "provenance": [],
      "authorship_tag": "ABX9TyPJ1aOYofaQe0FYiIg7z+nZ",
      "include_colab_link": true
    },
    "kernelspec": {
      "name": "python3",
      "display_name": "Python 3"
    },
    "language_info": {
      "name": "python"
    }
  },
  "cells": [
    {
      "cell_type": "markdown",
      "metadata": {
        "id": "view-in-github",
        "colab_type": "text"
      },
      "source": [
        "<a href=\"https://colab.research.google.com/github/Pranavvr/Credit_Approval_Prediction/blob/main/Credit_approval.ipynb\" target=\"_parent\"><img src=\"https://colab.research.google.com/assets/colab-badge.svg\" alt=\"Open In Colab\"/></a>"
      ]
    },
    {
      "cell_type": "code",
      "execution_count": null,
      "metadata": {
        "id": "XDxOa1AjtrMV"
      },
      "outputs": [],
      "source": [
        "from google.colab import drive"
      ]
    },
    {
      "cell_type": "code",
      "source": [
        "drive.mount('/content/Drive')"
      ],
      "metadata": {
        "colab": {
          "base_uri": "https://localhost:8080/"
        },
        "id": "Uyl3X1w1tuiJ",
        "outputId": "9ff4aa16-79d2-43e6-c268-230af983c49d"
      },
      "execution_count": null,
      "outputs": [
        {
          "output_type": "stream",
          "name": "stdout",
          "text": [
            "Mounted at /content/Drive\n"
          ]
        }
      ]
    },
    {
      "cell_type": "code",
      "source": [
        "import numpy as np # linear algebra\n",
        "import pandas as pd # data processing, CSV file I/O (e.g. pd.read_csv)\n",
        "\n",
        "#Visualization packaes\n",
        "import matplotlib.pyplot as plt\n",
        "import seaborn as sns\n",
        "\n",
        "#Machine learning\n",
        "from sklearn.preprocessing import LabelEncoder, StandardScaler, MinMaxScaler\n",
        "from collections import Counter\n",
        "from sklearn.model_selection import train_test_split\n",
        "from sklearn.linear_model import LogisticRegression\n",
        "from sklearn.ensemble import RandomForestClassifier\n",
        "from sklearn.metrics import accuracy_score, classification_report, confusion_matrix\n",
        "from sklearn.metrics import precision_score,recall_score, f1_score\n",
        "from imblearn.over_sampling import SMOTE"
      ],
      "metadata": {
        "id": "qXTda22gtzaO"
      },
      "execution_count": null,
      "outputs": []
    },
    {
      "cell_type": "code",
      "source": [
        "df=pd.read_csv('/content/Drive/MyDrive/ML Research/credit_risk_dataset.csv')"
      ],
      "metadata": {
        "id": "OGm1TKIzuiMv"
      },
      "execution_count": null,
      "outputs": []
    },
    {
      "cell_type": "code",
      "source": [
        "df.head()"
      ],
      "metadata": {
        "colab": {
          "base_uri": "https://localhost:8080/",
          "height": 270
        },
        "id": "hNaAOWciuuUj",
        "outputId": "c905edcf-b89a-4f9b-9e39-4be37bc4d528"
      },
      "execution_count": null,
      "outputs": [
        {
          "output_type": "execute_result",
          "data": {
            "text/plain": [
              "   person_age  person_income person_home_ownership  person_emp_length  \\\n",
              "0          22          59000                  RENT              123.0   \n",
              "1          21           9600                   OWN                5.0   \n",
              "2          25           9600              MORTGAGE                1.0   \n",
              "3          23          65500                  RENT                4.0   \n",
              "4          24          54400                  RENT                8.0   \n",
              "\n",
              "  loan_intent loan_grade  loan_amnt  loan_int_rate  loan_status  \\\n",
              "0    PERSONAL          D      35000          16.02            1   \n",
              "1   EDUCATION          B       1000          11.14            0   \n",
              "2     MEDICAL          C       5500          12.87            1   \n",
              "3     MEDICAL          C      35000          15.23            1   \n",
              "4     MEDICAL          C      35000          14.27            1   \n",
              "\n",
              "   loan_percent_income cb_person_default_on_file  cb_person_cred_hist_length  \n",
              "0                 0.59                         Y                           3  \n",
              "1                 0.10                         N                           2  \n",
              "2                 0.57                         N                           3  \n",
              "3                 0.53                         N                           2  \n",
              "4                 0.55                         Y                           4  "
            ],
            "text/html": [
              "\n",
              "  <div id=\"df-18f68cc4-2227-412a-8722-798b5bb6b05d\">\n",
              "    <div class=\"colab-df-container\">\n",
              "      <div>\n",
              "<style scoped>\n",
              "    .dataframe tbody tr th:only-of-type {\n",
              "        vertical-align: middle;\n",
              "    }\n",
              "\n",
              "    .dataframe tbody tr th {\n",
              "        vertical-align: top;\n",
              "    }\n",
              "\n",
              "    .dataframe thead th {\n",
              "        text-align: right;\n",
              "    }\n",
              "</style>\n",
              "<table border=\"1\" class=\"dataframe\">\n",
              "  <thead>\n",
              "    <tr style=\"text-align: right;\">\n",
              "      <th></th>\n",
              "      <th>person_age</th>\n",
              "      <th>person_income</th>\n",
              "      <th>person_home_ownership</th>\n",
              "      <th>person_emp_length</th>\n",
              "      <th>loan_intent</th>\n",
              "      <th>loan_grade</th>\n",
              "      <th>loan_amnt</th>\n",
              "      <th>loan_int_rate</th>\n",
              "      <th>loan_status</th>\n",
              "      <th>loan_percent_income</th>\n",
              "      <th>cb_person_default_on_file</th>\n",
              "      <th>cb_person_cred_hist_length</th>\n",
              "    </tr>\n",
              "  </thead>\n",
              "  <tbody>\n",
              "    <tr>\n",
              "      <th>0</th>\n",
              "      <td>22</td>\n",
              "      <td>59000</td>\n",
              "      <td>RENT</td>\n",
              "      <td>123.0</td>\n",
              "      <td>PERSONAL</td>\n",
              "      <td>D</td>\n",
              "      <td>35000</td>\n",
              "      <td>16.02</td>\n",
              "      <td>1</td>\n",
              "      <td>0.59</td>\n",
              "      <td>Y</td>\n",
              "      <td>3</td>\n",
              "    </tr>\n",
              "    <tr>\n",
              "      <th>1</th>\n",
              "      <td>21</td>\n",
              "      <td>9600</td>\n",
              "      <td>OWN</td>\n",
              "      <td>5.0</td>\n",
              "      <td>EDUCATION</td>\n",
              "      <td>B</td>\n",
              "      <td>1000</td>\n",
              "      <td>11.14</td>\n",
              "      <td>0</td>\n",
              "      <td>0.10</td>\n",
              "      <td>N</td>\n",
              "      <td>2</td>\n",
              "    </tr>\n",
              "    <tr>\n",
              "      <th>2</th>\n",
              "      <td>25</td>\n",
              "      <td>9600</td>\n",
              "      <td>MORTGAGE</td>\n",
              "      <td>1.0</td>\n",
              "      <td>MEDICAL</td>\n",
              "      <td>C</td>\n",
              "      <td>5500</td>\n",
              "      <td>12.87</td>\n",
              "      <td>1</td>\n",
              "      <td>0.57</td>\n",
              "      <td>N</td>\n",
              "      <td>3</td>\n",
              "    </tr>\n",
              "    <tr>\n",
              "      <th>3</th>\n",
              "      <td>23</td>\n",
              "      <td>65500</td>\n",
              "      <td>RENT</td>\n",
              "      <td>4.0</td>\n",
              "      <td>MEDICAL</td>\n",
              "      <td>C</td>\n",
              "      <td>35000</td>\n",
              "      <td>15.23</td>\n",
              "      <td>1</td>\n",
              "      <td>0.53</td>\n",
              "      <td>N</td>\n",
              "      <td>2</td>\n",
              "    </tr>\n",
              "    <tr>\n",
              "      <th>4</th>\n",
              "      <td>24</td>\n",
              "      <td>54400</td>\n",
              "      <td>RENT</td>\n",
              "      <td>8.0</td>\n",
              "      <td>MEDICAL</td>\n",
              "      <td>C</td>\n",
              "      <td>35000</td>\n",
              "      <td>14.27</td>\n",
              "      <td>1</td>\n",
              "      <td>0.55</td>\n",
              "      <td>Y</td>\n",
              "      <td>4</td>\n",
              "    </tr>\n",
              "  </tbody>\n",
              "</table>\n",
              "</div>\n",
              "      <button class=\"colab-df-convert\" onclick=\"convertToInteractive('df-18f68cc4-2227-412a-8722-798b5bb6b05d')\"\n",
              "              title=\"Convert this dataframe to an interactive table.\"\n",
              "              style=\"display:none;\">\n",
              "        \n",
              "  <svg xmlns=\"http://www.w3.org/2000/svg\" height=\"24px\"viewBox=\"0 0 24 24\"\n",
              "       width=\"24px\">\n",
              "    <path d=\"M0 0h24v24H0V0z\" fill=\"none\"/>\n",
              "    <path d=\"M18.56 5.44l.94 2.06.94-2.06 2.06-.94-2.06-.94-.94-2.06-.94 2.06-2.06.94zm-11 1L8.5 8.5l.94-2.06 2.06-.94-2.06-.94L8.5 2.5l-.94 2.06-2.06.94zm10 10l.94 2.06.94-2.06 2.06-.94-2.06-.94-.94-2.06-.94 2.06-2.06.94z\"/><path d=\"M17.41 7.96l-1.37-1.37c-.4-.4-.92-.59-1.43-.59-.52 0-1.04.2-1.43.59L10.3 9.45l-7.72 7.72c-.78.78-.78 2.05 0 2.83L4 21.41c.39.39.9.59 1.41.59.51 0 1.02-.2 1.41-.59l7.78-7.78 2.81-2.81c.8-.78.8-2.07 0-2.86zM5.41 20L4 18.59l7.72-7.72 1.47 1.35L5.41 20z\"/>\n",
              "  </svg>\n",
              "      </button>\n",
              "      \n",
              "  <style>\n",
              "    .colab-df-container {\n",
              "      display:flex;\n",
              "      flex-wrap:wrap;\n",
              "      gap: 12px;\n",
              "    }\n",
              "\n",
              "    .colab-df-convert {\n",
              "      background-color: #E8F0FE;\n",
              "      border: none;\n",
              "      border-radius: 50%;\n",
              "      cursor: pointer;\n",
              "      display: none;\n",
              "      fill: #1967D2;\n",
              "      height: 32px;\n",
              "      padding: 0 0 0 0;\n",
              "      width: 32px;\n",
              "    }\n",
              "\n",
              "    .colab-df-convert:hover {\n",
              "      background-color: #E2EBFA;\n",
              "      box-shadow: 0px 1px 2px rgba(60, 64, 67, 0.3), 0px 1px 3px 1px rgba(60, 64, 67, 0.15);\n",
              "      fill: #174EA6;\n",
              "    }\n",
              "\n",
              "    [theme=dark] .colab-df-convert {\n",
              "      background-color: #3B4455;\n",
              "      fill: #D2E3FC;\n",
              "    }\n",
              "\n",
              "    [theme=dark] .colab-df-convert:hover {\n",
              "      background-color: #434B5C;\n",
              "      box-shadow: 0px 1px 3px 1px rgba(0, 0, 0, 0.15);\n",
              "      filter: drop-shadow(0px 1px 2px rgba(0, 0, 0, 0.3));\n",
              "      fill: #FFFFFF;\n",
              "    }\n",
              "  </style>\n",
              "\n",
              "      <script>\n",
              "        const buttonEl =\n",
              "          document.querySelector('#df-18f68cc4-2227-412a-8722-798b5bb6b05d button.colab-df-convert');\n",
              "        buttonEl.style.display =\n",
              "          google.colab.kernel.accessAllowed ? 'block' : 'none';\n",
              "\n",
              "        async function convertToInteractive(key) {\n",
              "          const element = document.querySelector('#df-18f68cc4-2227-412a-8722-798b5bb6b05d');\n",
              "          const dataTable =\n",
              "            await google.colab.kernel.invokeFunction('convertToInteractive',\n",
              "                                                     [key], {});\n",
              "          if (!dataTable) return;\n",
              "\n",
              "          const docLinkHtml = 'Like what you see? Visit the ' +\n",
              "            '<a target=\"_blank\" href=https://colab.research.google.com/notebooks/data_table.ipynb>data table notebook</a>'\n",
              "            + ' to learn more about interactive tables.';\n",
              "          element.innerHTML = '';\n",
              "          dataTable['output_type'] = 'display_data';\n",
              "          await google.colab.output.renderOutput(dataTable, element);\n",
              "          const docLink = document.createElement('div');\n",
              "          docLink.innerHTML = docLinkHtml;\n",
              "          element.appendChild(docLink);\n",
              "        }\n",
              "      </script>\n",
              "    </div>\n",
              "  </div>\n",
              "  "
            ]
          },
          "metadata": {},
          "execution_count": 6
        }
      ]
    },
    {
      "cell_type": "code",
      "source": [
        "df.info()"
      ],
      "metadata": {
        "colab": {
          "base_uri": "https://localhost:8080/"
        },
        "id": "ogVUPmGRuv1M",
        "outputId": "4261d3a2-65a3-47ef-97b6-186de89e466c"
      },
      "execution_count": null,
      "outputs": [
        {
          "output_type": "stream",
          "name": "stdout",
          "text": [
            "<class 'pandas.core.frame.DataFrame'>\n",
            "RangeIndex: 32581 entries, 0 to 32580\n",
            "Data columns (total 12 columns):\n",
            " #   Column                      Non-Null Count  Dtype  \n",
            "---  ------                      --------------  -----  \n",
            " 0   person_age                  32581 non-null  int64  \n",
            " 1   person_income               32581 non-null  int64  \n",
            " 2   person_home_ownership       32581 non-null  object \n",
            " 3   person_emp_length           31686 non-null  float64\n",
            " 4   loan_intent                 32581 non-null  object \n",
            " 5   loan_grade                  32581 non-null  object \n",
            " 6   loan_amnt                   32581 non-null  int64  \n",
            " 7   loan_int_rate               29465 non-null  float64\n",
            " 8   loan_status                 32581 non-null  int64  \n",
            " 9   loan_percent_income         32581 non-null  float64\n",
            " 10  cb_person_default_on_file   32581 non-null  object \n",
            " 11  cb_person_cred_hist_length  32581 non-null  int64  \n",
            "dtypes: float64(3), int64(5), object(4)\n",
            "memory usage: 3.0+ MB\n"
          ]
        }
      ]
    },
    {
      "cell_type": "code",
      "source": [
        "#Dataset size\n",
        "data_rows = df.shape[0]\n",
        "data_colunms = df.shape[1]\n",
        "\n",
        "print(f'This dataset have {data_rows} rows and {data_colunms} columns.')"
      ],
      "metadata": {
        "colab": {
          "base_uri": "https://localhost:8080/"
        },
        "id": "dcwV4Xelu3tZ",
        "outputId": "30050880-d8b2-4b4d-94a9-e65e5e3b8064"
      },
      "execution_count": null,
      "outputs": [
        {
          "output_type": "stream",
          "name": "stdout",
          "text": [
            "This dataset have 32581 rows and 12 columns.\n"
          ]
        }
      ]
    },
    {
      "cell_type": "code",
      "source": [
        "df.isnull().sum()"
      ],
      "metadata": {
        "colab": {
          "base_uri": "https://localhost:8080/"
        },
        "id": "wr1SAPO9vGml",
        "outputId": "231a1261-75d0-4eb4-f386-07d56cae45f8"
      },
      "execution_count": null,
      "outputs": [
        {
          "output_type": "execute_result",
          "data": {
            "text/plain": [
              "person_age                       0\n",
              "person_income                    0\n",
              "person_home_ownership            0\n",
              "person_emp_length              895\n",
              "loan_intent                      0\n",
              "loan_grade                       0\n",
              "loan_amnt                        0\n",
              "loan_int_rate                 3116\n",
              "loan_status                      0\n",
              "loan_percent_income              0\n",
              "cb_person_default_on_file        0\n",
              "cb_person_cred_hist_length       0\n",
              "dtype: int64"
            ]
          },
          "metadata": {},
          "execution_count": 9
        }
      ]
    },
    {
      "cell_type": "code",
      "source": [
        "df.describe()"
      ],
      "metadata": {
        "colab": {
          "base_uri": "https://localhost:8080/",
          "height": 300
        },
        "id": "j_7O36d-vUhC",
        "outputId": "b33222e8-eced-4a52-94e8-bcbc773b9ff3"
      },
      "execution_count": null,
      "outputs": [
        {
          "output_type": "execute_result",
          "data": {
            "text/plain": [
              "         person_age  person_income  person_emp_length     loan_amnt  \\\n",
              "count  32581.000000   3.258100e+04       31686.000000  32581.000000   \n",
              "mean      27.734600   6.607485e+04           4.789686   9589.371106   \n",
              "std        6.348078   6.198312e+04           4.142630   6322.086646   \n",
              "min       20.000000   4.000000e+03           0.000000    500.000000   \n",
              "25%       23.000000   3.850000e+04           2.000000   5000.000000   \n",
              "50%       26.000000   5.500000e+04           4.000000   8000.000000   \n",
              "75%       30.000000   7.920000e+04           7.000000  12200.000000   \n",
              "max      144.000000   6.000000e+06         123.000000  35000.000000   \n",
              "\n",
              "       loan_int_rate   loan_status  loan_percent_income  \\\n",
              "count   29465.000000  32581.000000         32581.000000   \n",
              "mean       11.011695      0.218164             0.170203   \n",
              "std         3.240459      0.413006             0.106782   \n",
              "min         5.420000      0.000000             0.000000   \n",
              "25%         7.900000      0.000000             0.090000   \n",
              "50%        10.990000      0.000000             0.150000   \n",
              "75%        13.470000      0.000000             0.230000   \n",
              "max        23.220000      1.000000             0.830000   \n",
              "\n",
              "       cb_person_cred_hist_length  \n",
              "count                32581.000000  \n",
              "mean                     5.804211  \n",
              "std                      4.055001  \n",
              "min                      2.000000  \n",
              "25%                      3.000000  \n",
              "50%                      4.000000  \n",
              "75%                      8.000000  \n",
              "max                     30.000000  "
            ],
            "text/html": [
              "\n",
              "  <div id=\"df-d3dd0912-e7b1-47c5-ad58-4ce801200321\">\n",
              "    <div class=\"colab-df-container\">\n",
              "      <div>\n",
              "<style scoped>\n",
              "    .dataframe tbody tr th:only-of-type {\n",
              "        vertical-align: middle;\n",
              "    }\n",
              "\n",
              "    .dataframe tbody tr th {\n",
              "        vertical-align: top;\n",
              "    }\n",
              "\n",
              "    .dataframe thead th {\n",
              "        text-align: right;\n",
              "    }\n",
              "</style>\n",
              "<table border=\"1\" class=\"dataframe\">\n",
              "  <thead>\n",
              "    <tr style=\"text-align: right;\">\n",
              "      <th></th>\n",
              "      <th>person_age</th>\n",
              "      <th>person_income</th>\n",
              "      <th>person_emp_length</th>\n",
              "      <th>loan_amnt</th>\n",
              "      <th>loan_int_rate</th>\n",
              "      <th>loan_status</th>\n",
              "      <th>loan_percent_income</th>\n",
              "      <th>cb_person_cred_hist_length</th>\n",
              "    </tr>\n",
              "  </thead>\n",
              "  <tbody>\n",
              "    <tr>\n",
              "      <th>count</th>\n",
              "      <td>32581.000000</td>\n",
              "      <td>3.258100e+04</td>\n",
              "      <td>31686.000000</td>\n",
              "      <td>32581.000000</td>\n",
              "      <td>29465.000000</td>\n",
              "      <td>32581.000000</td>\n",
              "      <td>32581.000000</td>\n",
              "      <td>32581.000000</td>\n",
              "    </tr>\n",
              "    <tr>\n",
              "      <th>mean</th>\n",
              "      <td>27.734600</td>\n",
              "      <td>6.607485e+04</td>\n",
              "      <td>4.789686</td>\n",
              "      <td>9589.371106</td>\n",
              "      <td>11.011695</td>\n",
              "      <td>0.218164</td>\n",
              "      <td>0.170203</td>\n",
              "      <td>5.804211</td>\n",
              "    </tr>\n",
              "    <tr>\n",
              "      <th>std</th>\n",
              "      <td>6.348078</td>\n",
              "      <td>6.198312e+04</td>\n",
              "      <td>4.142630</td>\n",
              "      <td>6322.086646</td>\n",
              "      <td>3.240459</td>\n",
              "      <td>0.413006</td>\n",
              "      <td>0.106782</td>\n",
              "      <td>4.055001</td>\n",
              "    </tr>\n",
              "    <tr>\n",
              "      <th>min</th>\n",
              "      <td>20.000000</td>\n",
              "      <td>4.000000e+03</td>\n",
              "      <td>0.000000</td>\n",
              "      <td>500.000000</td>\n",
              "      <td>5.420000</td>\n",
              "      <td>0.000000</td>\n",
              "      <td>0.000000</td>\n",
              "      <td>2.000000</td>\n",
              "    </tr>\n",
              "    <tr>\n",
              "      <th>25%</th>\n",
              "      <td>23.000000</td>\n",
              "      <td>3.850000e+04</td>\n",
              "      <td>2.000000</td>\n",
              "      <td>5000.000000</td>\n",
              "      <td>7.900000</td>\n",
              "      <td>0.000000</td>\n",
              "      <td>0.090000</td>\n",
              "      <td>3.000000</td>\n",
              "    </tr>\n",
              "    <tr>\n",
              "      <th>50%</th>\n",
              "      <td>26.000000</td>\n",
              "      <td>5.500000e+04</td>\n",
              "      <td>4.000000</td>\n",
              "      <td>8000.000000</td>\n",
              "      <td>10.990000</td>\n",
              "      <td>0.000000</td>\n",
              "      <td>0.150000</td>\n",
              "      <td>4.000000</td>\n",
              "    </tr>\n",
              "    <tr>\n",
              "      <th>75%</th>\n",
              "      <td>30.000000</td>\n",
              "      <td>7.920000e+04</td>\n",
              "      <td>7.000000</td>\n",
              "      <td>12200.000000</td>\n",
              "      <td>13.470000</td>\n",
              "      <td>0.000000</td>\n",
              "      <td>0.230000</td>\n",
              "      <td>8.000000</td>\n",
              "    </tr>\n",
              "    <tr>\n",
              "      <th>max</th>\n",
              "      <td>144.000000</td>\n",
              "      <td>6.000000e+06</td>\n",
              "      <td>123.000000</td>\n",
              "      <td>35000.000000</td>\n",
              "      <td>23.220000</td>\n",
              "      <td>1.000000</td>\n",
              "      <td>0.830000</td>\n",
              "      <td>30.000000</td>\n",
              "    </tr>\n",
              "  </tbody>\n",
              "</table>\n",
              "</div>\n",
              "      <button class=\"colab-df-convert\" onclick=\"convertToInteractive('df-d3dd0912-e7b1-47c5-ad58-4ce801200321')\"\n",
              "              title=\"Convert this dataframe to an interactive table.\"\n",
              "              style=\"display:none;\">\n",
              "        \n",
              "  <svg xmlns=\"http://www.w3.org/2000/svg\" height=\"24px\"viewBox=\"0 0 24 24\"\n",
              "       width=\"24px\">\n",
              "    <path d=\"M0 0h24v24H0V0z\" fill=\"none\"/>\n",
              "    <path d=\"M18.56 5.44l.94 2.06.94-2.06 2.06-.94-2.06-.94-.94-2.06-.94 2.06-2.06.94zm-11 1L8.5 8.5l.94-2.06 2.06-.94-2.06-.94L8.5 2.5l-.94 2.06-2.06.94zm10 10l.94 2.06.94-2.06 2.06-.94-2.06-.94-.94-2.06-.94 2.06-2.06.94z\"/><path d=\"M17.41 7.96l-1.37-1.37c-.4-.4-.92-.59-1.43-.59-.52 0-1.04.2-1.43.59L10.3 9.45l-7.72 7.72c-.78.78-.78 2.05 0 2.83L4 21.41c.39.39.9.59 1.41.59.51 0 1.02-.2 1.41-.59l7.78-7.78 2.81-2.81c.8-.78.8-2.07 0-2.86zM5.41 20L4 18.59l7.72-7.72 1.47 1.35L5.41 20z\"/>\n",
              "  </svg>\n",
              "      </button>\n",
              "      \n",
              "  <style>\n",
              "    .colab-df-container {\n",
              "      display:flex;\n",
              "      flex-wrap:wrap;\n",
              "      gap: 12px;\n",
              "    }\n",
              "\n",
              "    .colab-df-convert {\n",
              "      background-color: #E8F0FE;\n",
              "      border: none;\n",
              "      border-radius: 50%;\n",
              "      cursor: pointer;\n",
              "      display: none;\n",
              "      fill: #1967D2;\n",
              "      height: 32px;\n",
              "      padding: 0 0 0 0;\n",
              "      width: 32px;\n",
              "    }\n",
              "\n",
              "    .colab-df-convert:hover {\n",
              "      background-color: #E2EBFA;\n",
              "      box-shadow: 0px 1px 2px rgba(60, 64, 67, 0.3), 0px 1px 3px 1px rgba(60, 64, 67, 0.15);\n",
              "      fill: #174EA6;\n",
              "    }\n",
              "\n",
              "    [theme=dark] .colab-df-convert {\n",
              "      background-color: #3B4455;\n",
              "      fill: #D2E3FC;\n",
              "    }\n",
              "\n",
              "    [theme=dark] .colab-df-convert:hover {\n",
              "      background-color: #434B5C;\n",
              "      box-shadow: 0px 1px 3px 1px rgba(0, 0, 0, 0.15);\n",
              "      filter: drop-shadow(0px 1px 2px rgba(0, 0, 0, 0.3));\n",
              "      fill: #FFFFFF;\n",
              "    }\n",
              "  </style>\n",
              "\n",
              "      <script>\n",
              "        const buttonEl =\n",
              "          document.querySelector('#df-d3dd0912-e7b1-47c5-ad58-4ce801200321 button.colab-df-convert');\n",
              "        buttonEl.style.display =\n",
              "          google.colab.kernel.accessAllowed ? 'block' : 'none';\n",
              "\n",
              "        async function convertToInteractive(key) {\n",
              "          const element = document.querySelector('#df-d3dd0912-e7b1-47c5-ad58-4ce801200321');\n",
              "          const dataTable =\n",
              "            await google.colab.kernel.invokeFunction('convertToInteractive',\n",
              "                                                     [key], {});\n",
              "          if (!dataTable) return;\n",
              "\n",
              "          const docLinkHtml = 'Like what you see? Visit the ' +\n",
              "            '<a target=\"_blank\" href=https://colab.research.google.com/notebooks/data_table.ipynb>data table notebook</a>'\n",
              "            + ' to learn more about interactive tables.';\n",
              "          element.innerHTML = '';\n",
              "          dataTable['output_type'] = 'display_data';\n",
              "          await google.colab.output.renderOutput(dataTable, element);\n",
              "          const docLink = document.createElement('div');\n",
              "          docLink.innerHTML = docLinkHtml;\n",
              "          element.appendChild(docLink);\n",
              "        }\n",
              "      </script>\n",
              "    </div>\n",
              "  </div>\n",
              "  "
            ]
          },
          "metadata": {},
          "execution_count": 10
        }
      ]
    },
    {
      "cell_type": "code",
      "source": [
        "features = ['person_age','person_emp_length','loan_percent_income','cb_person_cred_hist_length']\n",
        "plt.figure(figsize=(10,5))\n",
        "for i in range(0,len(features)):\n",
        "    plt.subplot(1, len(features), i + 1)\n",
        "    sns.boxplot(y=df[features[i]], color='CornflowerBlue', orient='v')\n",
        "    plt.tight_layout()\n"
      ],
      "metadata": {
        "colab": {
          "base_uri": "https://localhost:8080/",
          "height": 369
        },
        "id": "SLD6L-wavYf9",
        "outputId": "bfde2ad5-828d-479d-b3ca-ea7e4b6210d6"
      },
      "execution_count": null,
      "outputs": [
        {
          "output_type": "display_data",
          "data": {
            "text/plain": [
              "<Figure size 720x360 with 4 Axes>"
            ],
            "image/png": "[encoded data removed]"
          },
          "metadata": {
            "needs_background": "light"
          }
        }
      ]
    },
    {
      "cell_type": "code",
      "source": [
        "plt.figure(figsize=(10,5))\n",
        "df.hist()\n",
        "plt.show()"
      ],
      "metadata": {
        "colab": {
          "base_uri": "https://localhost:8080/",
          "height": 298
        },
        "id": "pX5vGMrjvbVZ",
        "outputId": "7f3dde05-e579-4107-830f-04ade8683066"
      },
      "execution_count": null,
      "outputs": [
        {
          "output_type": "display_data",
          "data": {
            "text/plain": [
              "<Figure size 720x360 with 0 Axes>"
            ]
          },
          "metadata": {}
        },
        {
          "output_type": "display_data",
          "data": {
            "text/plain": [
              "<Figure size 432x288 with 9 Axes>"
            ],
            "image/png": "[encoded data removed]"
          },
          "metadata": {
            "needs_background": "light"
          }
        }
      ]
    },
    {
      "cell_type": "code",
      "source": [
        "df.loan_status.value_counts()"
      ],
      "metadata": {
        "colab": {
          "base_uri": "https://localhost:8080/"
        },
        "id": "rbIV6ERGvhkE",
        "outputId": "8c21864b-5a1d-4763-f8a7-2d071539b101"
      },
      "execution_count": null,
      "outputs": [
        {
          "output_type": "execute_result",
          "data": {
            "text/plain": [
              "0    25473\n",
              "1     7108\n",
              "Name: loan_status, dtype: int64"
            ]
          },
          "metadata": {},
          "execution_count": 13
        }
      ]
    },
    {
      "cell_type": "code",
      "source": [
        "plt.figure(figsize=(8,4))\n",
        "sns.countplot(x='loan_status', data=df)\n",
        "plt.show()"
      ],
      "metadata": {
        "colab": {
          "base_uri": "https://localhost:8080/",
          "height": 280
        },
        "id": "skSNRzf-vlIN",
        "outputId": "85223d01-6b79-4c43-8ec4-c653d448cf09"
      },
      "execution_count": null,
      "outputs": [
        {
          "output_type": "display_data",
          "data": {
            "text/plain": [
              "<Figure size 576x288 with 1 Axes>"
            ],
            "image/png": "[encoded data removed]"
          },
          "metadata": {
            "needs_background": "light"
          }
        }
      ]
    },
    {
      "cell_type": "code",
      "source": [
        "var_categorical = ['person_home_ownership', 'loan_intent', 'loan_grade', 'cb_person_default_on_file']\n",
        "for i in var_categorical:\n",
        "    print(f'Total row of variable {i}')\n",
        "    print(df[i].value_counts())\n",
        "    print()"
      ],
      "metadata": {
        "colab": {
          "base_uri": "https://localhost:8080/"
        },
        "id": "H8aKHeNivnRn",
        "outputId": "21b961a4-16f6-4bb0-be1d-0ad225635816"
      },
      "execution_count": null,
      "outputs": [
        {
          "output_type": "stream",
          "name": "stdout",
          "text": [
            "Total row of variable person_home_ownership\n",
            "RENT        16446\n",
            "MORTGAGE    13444\n",
            "OWN          2584\n",
            "OTHER         107\n",
            "Name: person_home_ownership, dtype: int64\n",
            "\n",
            "Total row of variable loan_intent\n",
            "EDUCATION            6453\n",
            "MEDICAL              6071\n",
            "VENTURE              5719\n",
            "PERSONAL             5521\n",
            "DEBTCONSOLIDATION    5212\n",
            "HOMEIMPROVEMENT      3605\n",
            "Name: loan_intent, dtype: int64\n",
            "\n",
            "Total row of variable loan_grade\n",
            "A    10777\n",
            "B    10451\n",
            "C     6458\n",
            "D     3626\n",
            "E      964\n",
            "F      241\n",
            "G       64\n",
            "Name: loan_grade, dtype: int64\n",
            "\n",
            "Total row of variable cb_person_default_on_file\n",
            "N    26836\n",
            "Y     5745\n",
            "Name: cb_person_default_on_file, dtype: int64\n",
            "\n"
          ]
        }
      ]
    },
    {
      "cell_type": "code",
      "source": [
        "plt.figure(figsize=(15,9))\n",
        "for i in range(0,len(var_categorical)):\n",
        "    plt.subplot(2,2,i + 1)\n",
        "    sns.countplot(data= df, x = var_categorical[i], hue='loan_status')\n",
        "    plt.tight_layout()"
      ],
      "metadata": {
        "colab": {
          "base_uri": "https://localhost:8080/",
          "height": 657
        },
        "id": "71eUPRmHv6B-",
        "outputId": "6b3e84a1-58bc-4b74-d5f2-0981897cc64c"
      },
      "execution_count": null,
      "outputs": [
        {
          "output_type": "display_data",
          "data": {
            "text/plain": [
              "<Figure size 1080x648 with 4 Axes>"
            ],
            "image/png": "[encoded data removed]"
          },
          "metadata": {
            "needs_background": "light"
          }
        }
      ]
    },
    {
      "cell_type": "code",
      "source": [
        "#Looking for the outliers\n",
        "df['person_age'].sort_values(ascending=False).head(10)"
      ],
      "metadata": {
        "colab": {
          "base_uri": "https://localhost:8080/"
        },
        "id": "JVhLtsNbv_mM",
        "outputId": "d0f6e6e5-f05a-4746-ffb7-64cf37a5fed2"
      },
      "execution_count": null,
      "outputs": [
        {
          "output_type": "execute_result",
          "data": {
            "text/plain": [
              "81       144\n",
              "32297    144\n",
              "183      144\n",
              "747      123\n",
              "575      123\n",
              "32416     94\n",
              "32506     84\n",
              "32422     80\n",
              "32355     78\n",
              "32534     76\n",
              "Name: person_age, dtype: int64"
            ]
          },
          "metadata": {},
          "execution_count": 17
        }
      ]
    },
    {
      "cell_type": "code",
      "source": [
        "df['person_emp_length'].sort_values(ascending=False).head(10)"
      ],
      "metadata": {
        "colab": {
          "base_uri": "https://localhost:8080/"
        },
        "id": "ccmdUeeFwd00",
        "outputId": "3002cbf0-0dd4-4a51-88f0-874739c1b968"
      },
      "execution_count": null,
      "outputs": [
        {
          "output_type": "execute_result",
          "data": {
            "text/plain": [
              "0        123.0\n",
              "210      123.0\n",
              "32355     41.0\n",
              "32515     38.0\n",
              "32428     34.0\n",
              "31866     31.0\n",
              "32263     31.0\n",
              "31867     31.0\n",
              "30914     31.0\n",
              "32562     30.0\n",
              "Name: person_emp_length, dtype: float64"
            ]
          },
          "metadata": {},
          "execution_count": 18
        }
      ]
    },
    {
      "cell_type": "code",
      "source": [
        "df.drop(df.loc[df['person_emp_length'] == 123].index, inplace=True)"
      ],
      "metadata": {
        "id": "hurJ_4jTwhhM"
      },
      "execution_count": null,
      "outputs": []
    },
    {
      "cell_type": "code",
      "source": [
        "df.loc[df['person_emp_length'] == 123]"
      ],
      "metadata": {
        "colab": {
          "base_uri": "https://localhost:8080/",
          "height": 113
        },
        "id": "aIgXdTuHwq0d",
        "outputId": "96159ab3-f186-4077-daa4-198b0a31ea40"
      },
      "execution_count": null,
      "outputs": [
        {
          "output_type": "execute_result",
          "data": {
            "text/plain": [
              "Empty DataFrame\n",
              "Columns: [person_age, person_income, person_home_ownership, person_emp_length, loan_intent, loan_grade, loan_amnt, loan_int_rate, loan_status, loan_percent_income, cb_person_default_on_file, cb_person_cred_hist_length]\n",
              "Index: []"
            ],
            "text/html": [
              "\n",
              "  <div id=\"df-f34af7f9-902a-4c0f-b15b-55de48c3f3e0\">\n",
              "    <div class=\"colab-df-container\">\n",
              "      <div>\n",
              "<style scoped>\n",
              "    .dataframe tbody tr th:only-of-type {\n",
              "        vertical-align: middle;\n",
              "    }\n",
              "\n",
              "    .dataframe tbody tr th {\n",
              "        vertical-align: top;\n",
              "    }\n",
              "\n",
              "    .dataframe thead th {\n",
              "        text-align: right;\n",
              "    }\n",
              "</style>\n",
              "<table border=\"1\" class=\"dataframe\">\n",
              "  <thead>\n",
              "    <tr style=\"text-align: right;\">\n",
              "      <th></th>\n",
              "      <th>person_age</th>\n",
              "      <th>person_income</th>\n",
              "      <th>person_home_ownership</th>\n",
              "      <th>person_emp_length</th>\n",
              "      <th>loan_intent</th>\n",
              "      <th>loan_grade</th>\n",
              "      <th>loan_amnt</th>\n",
              "      <th>loan_int_rate</th>\n",
              "      <th>loan_status</th>\n",
              "      <th>loan_percent_income</th>\n",
              "      <th>cb_person_default_on_file</th>\n",
              "      <th>cb_person_cred_hist_length</th>\n",
              "    </tr>\n",
              "  </thead>\n",
              "  <tbody>\n",
              "  </tbody>\n",
              "</table>\n",
              "</div>\n",
              "      <button class=\"colab-df-convert\" onclick=\"convertToInteractive('df-f34af7f9-902a-4c0f-b15b-55de48c3f3e0')\"\n",
              "              title=\"Convert this dataframe to an interactive table.\"\n",
              "              style=\"display:none;\">\n",
              "        \n",
              "  <svg xmlns=\"http://www.w3.org/2000/svg\" height=\"24px\"viewBox=\"0 0 24 24\"\n",
              "       width=\"24px\">\n",
              "    <path d=\"M0 0h24v24H0V0z\" fill=\"none\"/>\n",
              "    <path d=\"M18.56 5.44l.94 2.06.94-2.06 2.06-.94-2.06-.94-.94-2.06-.94 2.06-2.06.94zm-11 1L8.5 8.5l.94-2.06 2.06-.94-2.06-.94L8.5 2.5l-.94 2.06-2.06.94zm10 10l.94 2.06.94-2.06 2.06-.94-2.06-.94-.94-2.06-.94 2.06-2.06.94z\"/><path d=\"M17.41 7.96l-1.37-1.37c-.4-.4-.92-.59-1.43-.59-.52 0-1.04.2-1.43.59L10.3 9.45l-7.72 7.72c-.78.78-.78 2.05 0 2.83L4 21.41c.39.39.9.59 1.41.59.51 0 1.02-.2 1.41-.59l7.78-7.78 2.81-2.81c.8-.78.8-2.07 0-2.86zM5.41 20L4 18.59l7.72-7.72 1.47 1.35L5.41 20z\"/>\n",
              "  </svg>\n",
              "      </button>\n",
              "      \n",
              "  <style>\n",
              "    .colab-df-container {\n",
              "      display:flex;\n",
              "      flex-wrap:wrap;\n",
              "      gap: 12px;\n",
              "    }\n",
              "\n",
              "    .colab-df-convert {\n",
              "      background-color: #E8F0FE;\n",
              "      border: none;\n",
              "      border-radius: 50%;\n",
              "      cursor: pointer;\n",
              "      display: none;\n",
              "      fill: #1967D2;\n",
              "      height: 32px;\n",
              "      padding: 0 0 0 0;\n",
              "      width: 32px;\n",
              "    }\n",
              "\n",
              "    .colab-df-convert:hover {\n",
              "      background-color: #E2EBFA;\n",
              "      box-shadow: 0px 1px 2px rgba(60, 64, 67, 0.3), 0px 1px 3px 1px rgba(60, 64, 67, 0.15);\n",
              "      fill: #174EA6;\n",
              "    }\n",
              "\n",
              "    [theme=dark] .colab-df-convert {\n",
              "      background-color: #3B4455;\n",
              "      fill: #D2E3FC;\n",
              "    }\n",
              "\n",
              "    [theme=dark] .colab-df-convert:hover {\n",
              "      background-color: #434B5C;\n",
              "      box-shadow: 0px 1px 3px 1px rgba(0, 0, 0, 0.15);\n",
              "      filter: drop-shadow(0px 1px 2px rgba(0, 0, 0, 0.3));\n",
              "      fill: #FFFFFF;\n",
              "    }\n",
              "  </style>\n",
              "\n",
              "      <script>\n",
              "        const buttonEl =\n",
              "          document.querySelector('#df-f34af7f9-902a-4c0f-b15b-55de48c3f3e0 button.colab-df-convert');\n",
              "        buttonEl.style.display =\n",
              "          google.colab.kernel.accessAllowed ? 'block' : 'none';\n",
              "\n",
              "        async function convertToInteractive(key) {\n",
              "          const element = document.querySelector('#df-f34af7f9-902a-4c0f-b15b-55de48c3f3e0');\n",
              "          const dataTable =\n",
              "            await google.colab.kernel.invokeFunction('convertToInteractive',\n",
              "                                                     [key], {});\n",
              "          if (!dataTable) return;\n",
              "\n",
              "          const docLinkHtml = 'Like what you see? Visit the ' +\n",
              "            '<a target=\"_blank\" href=https://colab.research.google.com/notebooks/data_table.ipynb>data table notebook</a>'\n",
              "            + ' to learn more about interactive tables.';\n",
              "          element.innerHTML = '';\n",
              "          dataTable['output_type'] = 'display_data';\n",
              "          await google.colab.output.renderOutput(dataTable, element);\n",
              "          const docLink = document.createElement('div');\n",
              "          docLink.innerHTML = docLinkHtml;\n",
              "          element.appendChild(docLink);\n",
              "        }\n",
              "      </script>\n",
              "    </div>\n",
              "  </div>\n",
              "  "
            ]
          },
          "metadata": {},
          "execution_count": 20
        }
      ]
    },
    {
      "cell_type": "code",
      "source": [
        "df.drop(df.loc[df['person_age'] >= 123].index, inplace=True)\n",
        "df.loc[df['person_age'] >= 123].index"
      ],
      "metadata": {
        "colab": {
          "base_uri": "https://localhost:8080/"
        },
        "id": "RpWuaMLhwtob",
        "outputId": "f34f9de4-403d-4611-9432-64815d04661c"
      },
      "execution_count": null,
      "outputs": [
        {
          "output_type": "execute_result",
          "data": {
            "text/plain": [
              "Int64Index([], dtype='int64')"
            ]
          },
          "metadata": {},
          "execution_count": 21
        }
      ]
    },
    {
      "cell_type": "code",
      "source": [
        "#Confirm there is no outliers\n",
        "features = ['person_age','person_emp_length','loan_percent_income','cb_person_cred_hist_length']\n",
        "plt.figure(figsize=(10,5))\n",
        "for i in range(0,len(features)):\n",
        "    plt.subplot(1, len(features), i + 1)\n",
        "    sns.boxplot(y=df[features[i]], color='CornflowerBlue', orient='v')\n",
        "    plt.tight_layout()"
      ],
      "metadata": {
        "colab": {
          "base_uri": "https://localhost:8080/",
          "height": 369
        },
        "id": "_iFA5IdSw0at",
        "outputId": "a3a1dff5-fc13-45fd-a86c-eed7f8fb606c"
      },
      "execution_count": null,
      "outputs": [
        {
          "output_type": "display_data",
          "data": {
            "text/plain": [
              "<Figure size 720x360 with 4 Axes>"
            ],
            "image/png": "[encoded data removed]"
          },
          "metadata": {
            "needs_background": "light"
          }
        }
      ]
    },
    {
      "cell_type": "code",
      "source": [
        "#After drop outliers\n",
        "mean_person_emp_length = df['person_emp_length'].mean()\n",
        "mean_loan_int_rate = df['loan_int_rate'].mean()"
      ],
      "metadata": {
        "id": "Yt6acMZ4w36y"
      },
      "execution_count": null,
      "outputs": []
    },
    {
      "cell_type": "code",
      "source": [
        "#Fill na with mean\n",
        "df['person_emp_length'] = df['person_emp_length'].fillna(mean_person_emp_length)"
      ],
      "metadata": {
        "id": "snXP1B6ow-rb"
      },
      "execution_count": null,
      "outputs": []
    },
    {
      "cell_type": "code",
      "source": [
        "df['person_emp_length'].isna().sum()"
      ],
      "metadata": {
        "colab": {
          "base_uri": "https://localhost:8080/"
        },
        "id": "xIJxHcxCxEqe",
        "outputId": "971f0fc4-eaf4-4978-b977-4902b14c3bda"
      },
      "execution_count": null,
      "outputs": [
        {
          "output_type": "execute_result",
          "data": {
            "text/plain": [
              "0"
            ]
          },
          "metadata": {},
          "execution_count": 25
        }
      ]
    },
    {
      "cell_type": "code",
      "source": [
        "df['loan_int_rate'] = df['loan_int_rate'].fillna(mean_loan_int_rate)\n",
        "df['loan_int_rate'].isna().sum()"
      ],
      "metadata": {
        "colab": {
          "base_uri": "https://localhost:8080/"
        },
        "id": "2UCW8W3lxN7H",
        "outputId": "4ecd7859-068f-4a9b-b966-c2ebff5ef82e"
      },
      "execution_count": null,
      "outputs": [
        {
          "output_type": "execute_result",
          "data": {
            "text/plain": [
              "0"
            ]
          },
          "metadata": {},
          "execution_count": 26
        }
      ]
    },
    {
      "cell_type": "code",
      "source": [
        "def categorical_variables(df):\n",
        "    object_cols = ['person_home_ownership', 'loan_intent', 'loan_grade', 'cb_person_default_on_file']\n",
        "    label_encoder = LabelEncoder()\n",
        "    for col in object_cols:\n",
        "        df[col] = label_encoder.fit_transform(df[col])\n",
        "    return df"
      ],
      "metadata": {
        "id": "zvEF8hWexQdD"
      },
      "execution_count": null,
      "outputs": []
    },
    {
      "cell_type": "code",
      "source": [
        "credit_df = categorical_variables(df)"
      ],
      "metadata": {
        "id": "eYtdtkhnxUqE"
      },
      "execution_count": null,
      "outputs": []
    },
    {
      "cell_type": "code",
      "source": [
        "credit_df.head()"
      ],
      "metadata": {
        "id": "h5m6-BwrxZGp",
        "outputId": "1427e951-6e9f-4a5c-c8f0-c703a1cfb432",
        "colab": {
          "base_uri": "https://localhost:8080/",
          "height": 270
        }
      },
      "execution_count": null,
      "outputs": [
        {
          "output_type": "execute_result",
          "data": {
            "text/plain": [
              "   person_age  person_income  person_home_ownership  person_emp_length  \\\n",
              "1          21           9600                      2                5.0   \n",
              "2          25           9600                      0                1.0   \n",
              "3          23          65500                      3                4.0   \n",
              "4          24          54400                      3                8.0   \n",
              "5          21           9900                      2                2.0   \n",
              "\n",
              "   loan_intent  loan_grade  loan_amnt  loan_int_rate  loan_status  \\\n",
              "1            1           1       1000          11.14            0   \n",
              "2            3           2       5500          12.87            1   \n",
              "3            3           2      35000          15.23            1   \n",
              "4            3           2      35000          14.27            1   \n",
              "5            5           0       2500           7.14            1   \n",
              "\n",
              "   loan_percent_income  cb_person_default_on_file  cb_person_cred_hist_length  \n",
              "1                 0.10                          0                           2  \n",
              "2                 0.57                          0                           3  \n",
              "3                 0.53                          0                           2  \n",
              "4                 0.55                          1                           4  \n",
              "5                 0.25                          0                           2  "
            ],
            "text/html": [
              "\n",
              "  <div id=\"df-4b40b62a-3d09-4a4f-9769-6561134d558b\">\n",
              "    <div class=\"colab-df-container\">\n",
              "      <div>\n",
              "<style scoped>\n",
              "    .dataframe tbody tr th:only-of-type {\n",
              "        vertical-align: middle;\n",
              "    }\n",
              "\n",
              "    .dataframe tbody tr th {\n",
              "        vertical-align: top;\n",
              "    }\n",
              "\n",
              "    .dataframe thead th {\n",
              "        text-align: right;\n",
              "    }\n",
              "</style>\n",
              "<table border=\"1\" class=\"dataframe\">\n",
              "  <thead>\n",
              "    <tr style=\"text-align: right;\">\n",
              "      <th></th>\n",
              "      <th>person_age</th>\n",
              "      <th>person_income</th>\n",
              "      <th>person_home_ownership</th>\n",
              "      <th>person_emp_length</th>\n",
              "      <th>loan_intent</th>\n",
              "      <th>loan_grade</th>\n",
              "      <th>loan_amnt</th>\n",
              "      <th>loan_int_rate</th>\n",
              "      <th>loan_status</th>\n",
              "      <th>loan_percent_income</th>\n",
              "      <th>cb_person_default_on_file</th>\n",
              "      <th>cb_person_cred_hist_length</th>\n",
              "    </tr>\n",
              "  </thead>\n",
              "  <tbody>\n",
              "    <tr>\n",
              "      <th>1</th>\n",
              "      <td>21</td>\n",
              "      <td>9600</td>\n",
              "      <td>2</td>\n",
              "      <td>5.0</td>\n",
              "      <td>1</td>\n",
              "      <td>1</td>\n",
              "      <td>1000</td>\n",
              "      <td>11.14</td>\n",
              "      <td>0</td>\n",
              "      <td>0.10</td>\n",
              "      <td>0</td>\n",
              "      <td>2</td>\n",
              "    </tr>\n",
              "    <tr>\n",
              "      <th>2</th>\n",
              "      <td>25</td>\n",
              "      <td>9600</td>\n",
              "      <td>0</td>\n",
              "      <td>1.0</td>\n",
              "      <td>3</td>\n",
              "      <td>2</td>\n",
              "      <td>5500</td>\n",
              "      <td>12.87</td>\n",
              "      <td>1</td>\n",
              "      <td>0.57</td>\n",
              "      <td>0</td>\n",
              "      <td>3</td>\n",
              "    </tr>\n",
              "    <tr>\n",
              "      <th>3</th>\n",
              "      <td>23</td>\n",
              "      <td>65500</td>\n",
              "      <td>3</td>\n",
              "      <td>4.0</td>\n",
              "      <td>3</td>\n",
              "      <td>2</td>\n",
              "      <td>35000</td>\n",
              "      <td>15.23</td>\n",
              "      <td>1</td>\n",
              "      <td>0.53</td>\n",
              "      <td>0</td>\n",
              "      <td>2</td>\n",
              "    </tr>\n",
              "    <tr>\n",
              "      <th>4</th>\n",
              "      <td>24</td>\n",
              "      <td>54400</td>\n",
              "      <td>3</td>\n",
              "      <td>8.0</td>\n",
              "      <td>3</td>\n",
              "      <td>2</td>\n",
              "      <td>35000</td>\n",
              "      <td>14.27</td>\n",
              "      <td>1</td>\n",
              "      <td>0.55</td>\n",
              "      <td>1</td>\n",
              "      <td>4</td>\n",
              "    </tr>\n",
              "    <tr>\n",
              "      <th>5</th>\n",
              "      <td>21</td>\n",
              "      <td>9900</td>\n",
              "      <td>2</td>\n",
              "      <td>2.0</td>\n",
              "      <td>5</td>\n",
              "      <td>0</td>\n",
              "      <td>2500</td>\n",
              "      <td>7.14</td>\n",
              "      <td>1</td>\n",
              "      <td>0.25</td>\n",
              "      <td>0</td>\n",
              "      <td>2</td>\n",
              "    </tr>\n",
              "  </tbody>\n",
              "</table>\n",
              "</div>\n",
              "      <button class=\"colab-df-convert\" onclick=\"convertToInteractive('df-4b40b62a-3d09-4a4f-9769-6561134d558b')\"\n",
              "              title=\"Convert this dataframe to an interactive table.\"\n",
              "              style=\"display:none;\">\n",
              "        \n",
              "  <svg xmlns=\"http://www.w3.org/2000/svg\" height=\"24px\"viewBox=\"0 0 24 24\"\n",
              "       width=\"24px\">\n",
              "    <path d=\"M0 0h24v24H0V0z\" fill=\"none\"/>\n",
              "    <path d=\"M18.56 5.44l.94 2.06.94-2.06 2.06-.94-2.06-.94-.94-2.06-.94 2.06-2.06.94zm-11 1L8.5 8.5l.94-2.06 2.06-.94-2.06-.94L8.5 2.5l-.94 2.06-2.06.94zm10 10l.94 2.06.94-2.06 2.06-.94-2.06-.94-.94-2.06-.94 2.06-2.06.94z\"/><path d=\"M17.41 7.96l-1.37-1.37c-.4-.4-.92-.59-1.43-.59-.52 0-1.04.2-1.43.59L10.3 9.45l-7.72 7.72c-.78.78-.78 2.05 0 2.83L4 21.41c.39.39.9.59 1.41.59.51 0 1.02-.2 1.41-.59l7.78-7.78 2.81-2.81c.8-.78.8-2.07 0-2.86zM5.41 20L4 18.59l7.72-7.72 1.47 1.35L5.41 20z\"/>\n",
              "  </svg>\n",
              "      </button>\n",
              "      \n",
              "  <style>\n",
              "    .colab-df-container {\n",
              "      display:flex;\n",
              "      flex-wrap:wrap;\n",
              "      gap: 12px;\n",
              "    }\n",
              "\n",
              "    .colab-df-convert {\n",
              "      background-color: #E8F0FE;\n",
              "      border: none;\n",
              "      border-radius: 50%;\n",
              "      cursor: pointer;\n",
              "      display: none;\n",
              "      fill: #1967D2;\n",
              "      height: 32px;\n",
              "      padding: 0 0 0 0;\n",
              "      width: 32px;\n",
              "    }\n",
              "\n",
              "    .colab-df-convert:hover {\n",
              "      background-color: #E2EBFA;\n",
              "      box-shadow: 0px 1px 2px rgba(60, 64, 67, 0.3), 0px 1px 3px 1px rgba(60, 64, 67, 0.15);\n",
              "      fill: #174EA6;\n",
              "    }\n",
              "\n",
              "    [theme=dark] .colab-df-convert {\n",
              "      background-color: #3B4455;\n",
              "      fill: #D2E3FC;\n",
              "    }\n",
              "\n",
              "    [theme=dark] .colab-df-convert:hover {\n",
              "      background-color: #434B5C;\n",
              "      box-shadow: 0px 1px 3px 1px rgba(0, 0, 0, 0.15);\n",
              "      filter: drop-shadow(0px 1px 2px rgba(0, 0, 0, 0.3));\n",
              "      fill: #FFFFFF;\n",
              "    }\n",
              "  </style>\n",
              "\n",
              "      <script>\n",
              "        const buttonEl =\n",
              "          document.querySelector('#df-4b40b62a-3d09-4a4f-9769-6561134d558b button.colab-df-convert');\n",
              "        buttonEl.style.display =\n",
              "          google.colab.kernel.accessAllowed ? 'block' : 'none';\n",
              "\n",
              "        async function convertToInteractive(key) {\n",
              "          const element = document.querySelector('#df-4b40b62a-3d09-4a4f-9769-6561134d558b');\n",
              "          const dataTable =\n",
              "            await google.colab.kernel.invokeFunction('convertToInteractive',\n",
              "                                                     [key], {});\n",
              "          if (!dataTable) return;\n",
              "\n",
              "          const docLinkHtml = 'Like what you see? Visit the ' +\n",
              "            '<a target=\"_blank\" href=https://colab.research.google.com/notebooks/data_table.ipynb>data table notebook</a>'\n",
              "            + ' to learn more about interactive tables.';\n",
              "          element.innerHTML = '';\n",
              "          dataTable['output_type'] = 'display_data';\n",
              "          await google.colab.output.renderOutput(dataTable, element);\n",
              "          const docLink = document.createElement('div');\n",
              "          docLink.innerHTML = docLinkHtml;\n",
              "          element.appendChild(docLink);\n",
              "        }\n",
              "      </script>\n",
              "    </div>\n",
              "  </div>\n",
              "  "
            ]
          },
          "metadata": {},
          "execution_count": 29
        }
      ]
    },
    {
      "cell_type": "code",
      "source": [
        "X = credit_df.drop('loan_status', axis=1)\n",
        "y = credit_df['loan_status']\n",
        "\n",
        "seed = 27\n",
        "size = 0.3\n",
        "X_train, X_test, Y_train, y_test = train_test_split(X, y, test_size=size, random_state=seed)"
      ],
      "metadata": {
        "id": "CIYS9uGcxbEa"
      },
      "execution_count": null,
      "outputs": []
    },
    {
      "cell_type": "code",
      "source": [
        "scaler = MinMaxScaler().fit(X_train)\n",
        "X_train_norm = scaler.transform(X_train)\n",
        "X_test_norm = scaler.transform(X_test)"
      ],
      "metadata": {
        "id": "xq2wK15Dl9sn"
      },
      "execution_count": null,
      "outputs": []
    },
    {
      "cell_type": "code",
      "source": [
        "#X_train scaled\n",
        "X_train_norm"
      ],
      "metadata": {
        "colab": {
          "base_uri": "https://localhost:8080/"
        },
        "id": "IblYfYHzm74c",
        "outputId": "72505bf6-c7d3-4054-8e44-2016d33b563e"
      },
      "execution_count": null,
      "outputs": [
        {
          "output_type": "execute_result",
          "data": {
            "text/plain": [
              "array([[0.04054054, 0.03733205, 0.        , ..., 0.16883117, 0.        ,\n",
              "        0.03571429],\n",
              "       [0.02702703, 0.02308693, 0.        , ..., 0.38961039, 0.        ,\n",
              "        0.07142857],\n",
              "       [0.16216216, 0.01670118, 0.66666667, ..., 0.14285714, 0.        ,\n",
              "        0.25      ],\n",
              "       ...,\n",
              "       [0.02702703, 0.0172533 , 0.66666667, ..., 0.16883117, 0.        ,\n",
              "        0.07142857],\n",
              "       [0.13513514, 0.01473634, 1.        , ..., 0.15584416, 0.        ,\n",
              "        0.28571429],\n",
              "       [0.02702703, 0.02868674, 1.        , ..., 0.18181818, 0.        ,\n",
              "        0.03571429]])"
            ]
          },
          "metadata": {},
          "execution_count": 33
        }
      ]
    },
    {
      "cell_type": "code",
      "source": [
        "#X_test scaled\n",
        "X_test_norm"
      ],
      "metadata": {
        "colab": {
          "base_uri": "https://localhost:8080/"
        },
        "id": "vKcgAMxjm8lM",
        "outputId": "6f117b1c-e139-4e17-8df6-dea9dff87edf"
      },
      "execution_count": null,
      "outputs": [
        {
          "output_type": "execute_result",
          "data": {
            "text/plain": [
              "array([[0.24324324, 0.00652329, 0.66666667, ..., 0.07792208, 1.        ,\n",
              "        0.39285714],\n",
              "       [0.08108108, 0.00785938, 1.        , ..., 0.25974026, 1.        ,\n",
              "        0.07142857],\n",
              "       [0.08108108, 0.06974807, 0.        , ..., 0.18181818, 1.        ,\n",
              "        0.        ],\n",
              "       ...,\n",
              "       [0.21621622, 0.02750783, 0.        , ..., 0.32467532, 0.        ,\n",
              "        0.53571429],\n",
              "       [0.14864865, 0.01571876, 1.        , ..., 0.28571429, 0.        ,\n",
              "        0.21428571],\n",
              "       [0.17567568, 0.01540438, 0.        , ..., 0.23376623, 0.        ,\n",
              "        0.10714286]])"
            ]
          },
          "metadata": {},
          "execution_count": 34
        }
      ]
    },
    {
      "cell_type": "code",
      "source": [
        "from xgboost import XGBClassifier\n",
        "from lightgbm import LGBMClassifier\n",
        "from sklearn.ensemble import RandomForestClassifier\n",
        "from sklearn.ensemble import StackingClassifier"
      ],
      "metadata": {
        "id": "icPvV8aCm_p9"
      },
      "execution_count": null,
      "outputs": []
    },
    {
      "cell_type": "code",
      "source": [
        "print('Distribution target class before oversample: ', Counter(Y_train))"
      ],
      "metadata": {
        "colab": {
          "base_uri": "https://localhost:8080/"
        },
        "id": "2Q7L6TqHnSE8",
        "outputId": "feba5f45-474a-43dc-a84d-38710513ab9d"
      },
      "execution_count": null,
      "outputs": [
        {
          "output_type": "stream",
          "name": "stdout",
          "text": [
            "Distribution target class before oversample:  Counter({0: 17813, 1: 4988})\n"
          ]
        }
      ]
    },
    {
      "cell_type": "code",
      "source": [
        "oversample= SMOTE(sampling_strategy=1, random_state=42, k_neighbors=3)\n",
        "X_train_over, Y_train_over = oversample.fit_resample(X_train_norm, Y_train)\n",
        "print('Distribuition target class after oversample: ', Counter(Y_train_over))"
      ],
      "metadata": {
        "colab": {
          "base_uri": "https://localhost:8080/"
        },
        "id": "6JJ3rRWcnYJ_",
        "outputId": "dff837ff-4037-4515-a253-e24d2896718b"
      },
      "execution_count": null,
      "outputs": [
        {
          "output_type": "stream",
          "name": "stdout",
          "text": [
            "Distribuition target class after oversample:  Counter({0: 17813, 1: 17813})\n"
          ]
        }
      ]
    },
    {
      "cell_type": "code",
      "source": [
        "rfc_clf = RandomForestClassifier(n_estimators=100)\n",
        "rfc_clf.fit(X_train, Y_train)"
      ],
      "metadata": {
        "colab": {
          "base_uri": "https://localhost:8080/"
        },
        "id": "hCRa-Hu6q-3D",
        "outputId": "92620002-34aa-4666-d247-da3f7550eb26"
      },
      "execution_count": null,
      "outputs": [
        {
          "output_type": "execute_result",
          "data": {
            "text/plain": [
              "RandomForestClassifier()"
            ]
          },
          "metadata": {},
          "execution_count": 41
        }
      ]
    },
    {
      "cell_type": "code",
      "source": [
        "Y_predict_clf = rfc_clf.predict(X_test)"
      ],
      "metadata": {
        "id": "KL0Mk2fssBRw"
      },
      "execution_count": null,
      "outputs": []
    },
    {
      "cell_type": "code",
      "source": [
        "accuracy = accuracy_score(y_test, Y_predict_clf)\n",
        "precision = precision_score(y_test, Y_predict_clf)\n",
        "recall = recall_score(y_test, Y_predict_clf)\n",
        "fscore = f1_score(y_test, Y_predict_clf)\n",
        "\n",
        "print('Accuracy predict: %.2f%%' % (accuracy * 100.0))\n",
        "print('Precision: %.2f%%' % (precision * 100.0))\n",
        "print('Recall: %.2f%%' % (recall * 100.0))\n",
        "print('F1_score: %.2f%%' % (fscore * 100.0))"
      ],
      "metadata": {
        "colab": {
          "base_uri": "https://localhost:8080/"
        },
        "id": "Yd3L0g6DsFNn",
        "outputId": "3103d19d-a97c-4ea2-b981-06c6a68ed7e2"
      },
      "execution_count": null,
      "outputs": [
        {
          "output_type": "stream",
          "name": "stdout",
          "text": [
            "Accuracy predict: 92.89%\n",
            "Precision: 95.24%\n",
            "Recall: 70.74%\n",
            "F1_score: 81.18%\n"
          ]
        }
      ]
    },
    {
      "cell_type": "code",
      "source": [],
      "metadata": {
        "id": "MN6Zmde5sNRM"
      },
      "execution_count": null,
      "outputs": []
    }
  ]
}